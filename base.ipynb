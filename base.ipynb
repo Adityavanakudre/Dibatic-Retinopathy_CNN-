{
 "cells": [
  {
   "cell_type": "code",
   "execution_count": 56,
   "id": "1963e467",
   "metadata": {
    "tags": []
   },
   "outputs": [],
   "source": [
    "# Import the necessary packages\n",
    "\n",
    "import pandas as pd\n",
    "import numpy as np\n",
    "import tensorflow as tf\n",
    "from tensorflow import keras\n",
    "import os\n",
    "import matplotlib.pyplot as plt\n",
    "import PIL\n",
    "import seaborn as sns\n",
    "from sklearn.model_selection import train_test_split\n",
    "from sklearn.utils import shuffle\n",
    "from tensorflow.keras.preprocessing.image import ImageDataGenerator\n",
    "from tensorflow.keras.applications.resnet50 import ResNet50\n",
    "from tensorflow.keras.applications.inception_resnet_v2 import InceptionResNetV2\n",
    "from tensorflow.keras.layers import *\n",
    "from tensorflow.keras.models import Model, load_model\n",
    "from tensorflow.keras.initializers import glorot_uniform\n",
    "from tensorflow.keras.utils import plot_model\n",
    "from IPython.display import display\n",
    "from tensorflow.keras import backend as K\n",
    "from tensorflow.keras.optimizers import SGD\n",
    "from tensorflow.keras.preprocessing.image import ImageDataGenerator\n",
    "from tensorflow.keras.models import Model, Sequential\n",
    "from tensorflow.keras.callbacks import ReduceLROnPlateau, EarlyStopping, ModelCheckpoint, LearningRateScheduler\n",
    "import cv2\n",
    "from sklearn.utils.class_weight import compute_class_weight\n",
    "from sklearn.utils.class_weight import compute_class_weight"
   ]
  },
  {
   "cell_type": "code",
   "execution_count": 57,
   "id": "addcb827",
   "metadata": {
    "tags": []
   },
   "outputs": [
    {
     "name": "stdout",
     "output_type": "stream",
     "text": [
      "Number of train images : 3662 \n",
      "\n"
     ]
    }
   ],
   "source": [
    "# Check the number of images in the dataset\n",
    "train = []\n",
    "label = []\n",
    "\n",
    "# os.listdir returns the list of files in the folder, in this case image class names\n",
    "for i in os.listdir('./train'):\n",
    "  train_class = os.listdir(os.path.join('train', i))\n",
    "  for j in train_class:\n",
    "    img = os.path.join('train', i, j)\n",
    "    train.append(img)\n",
    "    label.append(i)\n",
    "\n",
    "print('Number of train images : {} \\n'.format(len(train)))"
   ]
  },
  {
   "cell_type": "code",
   "execution_count": 58,
   "id": "fe0b72e9-f0da-4a80-9764-e022a61e70f8",
   "metadata": {
    "tags": []
   },
   "outputs": [
    {
     "name": "stdout",
     "output_type": "stream",
     "text": [
      "Number of images in Mild = 370 \n",
      "\n",
      "Number of images in Moderate = 999 \n",
      "\n",
      "Number of images in Proliferate_DR = 295 \n",
      "\n",
      "Number of images in Severe = 193 \n",
      "\n",
      "Number of images in No_DR = 1805 \n",
      "\n"
     ]
    }
   ],
   "source": [
    "No_images_per_class = []\n",
    "Class_name = []\n",
    "for i in os.listdir('./train'):\n",
    "  train_class = os.listdir(os.path.join('train', i))\n",
    "  No_images_per_class.append(len(train_class))\n",
    "  Class_name.append(i)\n",
    "  print('Number of images in {} = {} \\n'.format(i, len(train_class)))"
   ]
  },
  {
   "cell_type": "code",
   "execution_count": 59,
   "id": "9566f045",
   "metadata": {
    "tags": []
   },
   "outputs": [
    {
     "data": {
      "text/html": [
       "<div>\n",
       "<style scoped>\n",
       "    .dataframe tbody tr th:only-of-type {\n",
       "        vertical-align: middle;\n",
       "    }\n",
       "\n",
       "    .dataframe tbody tr th {\n",
       "        vertical-align: top;\n",
       "    }\n",
       "\n",
       "    .dataframe thead th {\n",
       "        text-align: right;\n",
       "    }\n",
       "</style>\n",
       "<table border=\"1\" class=\"dataframe\">\n",
       "  <thead>\n",
       "    <tr style=\"text-align: right;\">\n",
       "      <th></th>\n",
       "      <th>Image</th>\n",
       "      <th>Labels</th>\n",
       "    </tr>\n",
       "  </thead>\n",
       "  <tbody>\n",
       "    <tr>\n",
       "      <th>0</th>\n",
       "      <td>train/Mild/2d7666b8884f.png</td>\n",
       "      <td>Mild</td>\n",
       "    </tr>\n",
       "    <tr>\n",
       "      <th>1</th>\n",
       "      <td>train/Mild/50840c36f0b4.png</td>\n",
       "      <td>Mild</td>\n",
       "    </tr>\n",
       "    <tr>\n",
       "      <th>2</th>\n",
       "      <td>train/Mild/30cab14951ac.png</td>\n",
       "      <td>Mild</td>\n",
       "    </tr>\n",
       "    <tr>\n",
       "      <th>3</th>\n",
       "      <td>train/Mild/a8582e346df0.png</td>\n",
       "      <td>Mild</td>\n",
       "    </tr>\n",
       "    <tr>\n",
       "      <th>4</th>\n",
       "      <td>train/Mild/cab3dfa7962d.png</td>\n",
       "      <td>Mild</td>\n",
       "    </tr>\n",
       "    <tr>\n",
       "      <th>...</th>\n",
       "      <td>...</td>\n",
       "      <td>...</td>\n",
       "    </tr>\n",
       "    <tr>\n",
       "      <th>3657</th>\n",
       "      <td>train/No_DR/6b30767595d8.png</td>\n",
       "      <td>No_DR</td>\n",
       "    </tr>\n",
       "    <tr>\n",
       "      <th>3658</th>\n",
       "      <td>train/No_DR/2b4c7b5f1f1e.png</td>\n",
       "      <td>No_DR</td>\n",
       "    </tr>\n",
       "    <tr>\n",
       "      <th>3659</th>\n",
       "      <td>train/No_DR/ab78a66dee6a.png</td>\n",
       "      <td>No_DR</td>\n",
       "    </tr>\n",
       "    <tr>\n",
       "      <th>3660</th>\n",
       "      <td>train/No_DR/79ade634c633.png</td>\n",
       "      <td>No_DR</td>\n",
       "    </tr>\n",
       "    <tr>\n",
       "      <th>3661</th>\n",
       "      <td>train/No_DR/7a77c3eb468c.png</td>\n",
       "      <td>No_DR</td>\n",
       "    </tr>\n",
       "  </tbody>\n",
       "</table>\n",
       "<p>3662 rows × 2 columns</p>\n",
       "</div>"
      ],
      "text/plain": [
       "                             Image Labels\n",
       "0      train/Mild/2d7666b8884f.png   Mild\n",
       "1      train/Mild/50840c36f0b4.png   Mild\n",
       "2      train/Mild/30cab14951ac.png   Mild\n",
       "3      train/Mild/a8582e346df0.png   Mild\n",
       "4      train/Mild/cab3dfa7962d.png   Mild\n",
       "...                            ...    ...\n",
       "3657  train/No_DR/6b30767595d8.png  No_DR\n",
       "3658  train/No_DR/2b4c7b5f1f1e.png  No_DR\n",
       "3659  train/No_DR/ab78a66dee6a.png  No_DR\n",
       "3660  train/No_DR/79ade634c633.png  No_DR\n",
       "3661  train/No_DR/7a77c3eb468c.png  No_DR\n",
       "\n",
       "[3662 rows x 2 columns]"
      ]
     },
     "execution_count": 59,
     "metadata": {},
     "output_type": "execute_result"
    }
   ],
   "source": [
    "retina_df = pd.DataFrame({'Image': train,'Labels': label})\n",
    "retina_df"
   ]
  },
  {
   "cell_type": "code",
   "execution_count": 60,
   "id": "e9cd0921",
   "metadata": {
    "tags": []
   },
   "outputs": [],
   "source": [
    "retina_df = shuffle(retina_df)\n",
    "\n",
    "# Split the shuffled data into training and testing sets (80% train, 20% test)\n",
    "train, test = train_test_split(retina_df, test_size=0.2)"
   ]
  },
  {
   "cell_type": "code",
   "execution_count": 61,
   "id": "f3e912db",
   "metadata": {
    "tags": []
   },
   "outputs": [
    {
     "name": "stdout",
     "output_type": "stream",
     "text": [
      "Found 2490 validated image filenames belonging to 5 classes.\n",
      "Found 439 validated image filenames belonging to 5 classes.\n",
      "Found 733 validated image filenames belonging to 5 classes.\n"
     ]
    }
   ],
   "source": [
    "import cv2\n",
    "import numpy as np\n",
    "from tensorflow.keras.preprocessing.image import ImageDataGenerator\n",
    "\n",
    "class ImageProcessing:\n",
    "    def __init__(self, img_height, img_width, no_channels, tol=7, sigmaX=8):\n",
    "        self.img_height = img_height\n",
    "        self.img_width = img_width\n",
    "        self.no_channels = no_channels\n",
    "        self.tol = tol\n",
    "        self.sigmaX = sigmaX\n",
    "\n",
    "    def cropping_2D(self, img, is_cropping=False):\n",
    "        if not is_cropping:\n",
    "            return img\n",
    "        mask = img > self.tol\n",
    "        return img[np.ix_(mask.any(1), mask.any(0))]\n",
    "\n",
    "    def cropping_3D(self, img, is_cropping=False):\n",
    "        if not is_cropping:\n",
    "            return img\n",
    "        gray_img = cv2.cvtColor(img, cv2.COLOR_RGB2GRAY)\n",
    "        mask = gray_img > self.tol\n",
    "        check_shape = img[:, :, 0][np.ix_(mask.any(1), mask.any(0))].shape[0]\n",
    "        if check_shape == 0:\n",
    "            return img\n",
    "        else:\n",
    "            img1 = img[:, :, 0][np.ix_(mask.any(1), mask.any(0))]\n",
    "            img2 = img[:, :, 1][np.ix_(mask.any(1), mask.any(0))]\n",
    "            img3 = img[:, :, 2][np.ix_(mask.any(1), mask.any(0))]\n",
    "            img = np.stack([img1, img2, img3], axis=-1)\n",
    "        return img\n",
    "\n",
    "    def Gaussian_blur(self, img, is_gaussianblur=False):\n",
    "        if not is_gaussianblur:\n",
    "            return img\n",
    "        img = cv2.addWeighted(img, 4, cv2.GaussianBlur(img, (0, 0), self.sigmaX), -4, 128)\n",
    "        return img\n",
    "\n",
    "    def draw_circle(self, img, is_drawcircle=True):\n",
    "        if not is_drawcircle:\n",
    "            return img\n",
    "        x = int(self.img_width / 2)\n",
    "        y = int(self.img_height / 2)\n",
    "        r = np.amin((x, y))\n",
    "        circle_img = np.zeros((self.img_height, self.img_width), np.uint8)\n",
    "        cv2.circle(circle_img, (x, y), int(r), 1, thickness=-1)\n",
    "        img = cv2.bitwise_and(img, img, mask=circle_img)\n",
    "        return img\n",
    "\n",
    "    def image_preprocessing(self, img, is_cropping=True, is_gaussianblur=True, is_drawcircle=True):\n",
    "        if img.ndim == 2:\n",
    "            img = self.cropping_2D(img, is_cropping)\n",
    "        else:\n",
    "            img = self.cropping_3D(img, is_cropping)\n",
    "        img = cv2.resize(img, (self.img_width, self.img_height), interpolation=cv2.INTER_AREA)\n",
    "        if is_drawcircle:\n",
    "            img = self.draw_circle(img)\n",
    "        if is_gaussianblur:\n",
    "            img = self.Gaussian_blur(img)\n",
    "        return img\n",
    "\n",
    "# Instantiate your preprocessing class\n",
    "preprocessor = ImageProcessing(256, 256, 3)\n",
    "\n",
    "# Update your ImageDataGenerator\n",
    "train_datagen = ImageDataGenerator(\n",
    "    rescale = 1./255,\n",
    "    preprocessing_function=preprocessor.image_preprocessing,  # Add custom preprocessing function\n",
    "    validation_split=0.15\n",
    ")\n",
    "\n",
    "test_datagen = ImageDataGenerator(rescale = 1./255,preprocessing_function=preprocessor.image_preprocessing)\n",
    "\n",
    "# Use this updated generator to load data\n",
    "train_generator = train_datagen.flow_from_dataframe(\n",
    "    train,\n",
    "    directory='./',\n",
    "    x_col=\"Image\",\n",
    "    y_col=\"Labels\",\n",
    "    target_size=(256, 256),\n",
    "    color_mode=\"rgb\",\n",
    "    class_mode=\"categorical\",\n",
    "    batch_size=32,\n",
    "    subset='training'\n",
    ")\n",
    "\n",
    "validation_generator = train_datagen.flow_from_dataframe(\n",
    "    train,\n",
    "    directory='./',\n",
    "    x_col=\"Image\",\n",
    "    y_col=\"Labels\",\n",
    "    target_size=(256, 256),\n",
    "    color_mode=\"rgb\",\n",
    "    class_mode=\"categorical\",\n",
    "    batch_size=32,\n",
    "    subset='validation')\n",
    "\n",
    "test_generator = test_datagen.flow_from_dataframe(\n",
    "    test,\n",
    "    directory='./',\n",
    "    x_col=\"Image\",\n",
    "    y_col=\"Labels\",\n",
    "    target_size=(256, 256),\n",
    "    color_mode=\"rgb\",\n",
    "    class_mode=\"categorical\",\n",
    "    batch_size=32)"
   ]
  },
  {
   "cell_type": "code",
   "execution_count": 62,
   "id": "b8c8f360",
   "metadata": {
    "tags": []
   },
   "outputs": [],
   "source": [
    "model.compile(optimizer = 'adam', loss = 'categorical_crossentropy', metrics= ['accuracy'])\n",
    "\n",
    "checkpoint = ModelCheckpoint(\"model.keras\", monitor='val_loss', verbose=1, save_best_only=True, mode='min')\n",
    "\n",
    "early_stopping = EarlyStopping(monitor='val_loss', patience=10, verbose=1, restore_best_weights=True)\n"
   ]
  },
  {
   "cell_type": "code",
   "execution_count": 64,
   "id": "6dcfa5b9",
   "metadata": {
    "tags": []
   },
   "outputs": [
    {
     "name": "stdout",
     "output_type": "stream",
     "text": [
      "Epoch 1/10\n"
     ]
    },
    {
     "name": "stderr",
     "output_type": "stream",
     "text": [
      "/Users/avanaku/anaconda3/lib/python3.11/site-packages/keras/src/trainers/data_adapters/py_dataset_adapter.py:121: UserWarning: Your `PyDataset` class should call `super().__init__(**kwargs)` in its constructor. `**kwargs` can include `workers`, `use_multiprocessing`, `max_queue_size`. Do not pass these arguments to `fit()`, as they will be ignored.\n",
      "  self._warn_if_super_not_called()\n"
     ]
    },
    {
     "name": "stdout",
     "output_type": "stream",
     "text": [
      "\u001b[1m78/78\u001b[0m \u001b[32m━━━━━━━━━━━━━━━━━━━━\u001b[0m\u001b[37m\u001b[0m \u001b[1m0s\u001b[0m 1s/step - accuracy: 0.6862 - loss: 0.9405\n",
      "Epoch 1: val_loss improved from inf to 0.91090, saving model to model.keras\n",
      "\u001b[1m78/78\u001b[0m \u001b[32m━━━━━━━━━━━━━━━━━━━━\u001b[0m\u001b[37m\u001b[0m \u001b[1m119s\u001b[0m 1s/step - accuracy: 0.6865 - loss: 0.9390 - val_accuracy: 0.6902 - val_loss: 0.9109\n",
      "Epoch 2/10\n",
      "\u001b[1m78/78\u001b[0m \u001b[32m━━━━━━━━━━━━━━━━━━━━\u001b[0m\u001b[37m\u001b[0m \u001b[1m0s\u001b[0m 1s/step - accuracy: 0.7449 - loss: 0.6889\n",
      "Epoch 2: val_loss did not improve from 0.91090\n",
      "\u001b[1m78/78\u001b[0m \u001b[32m━━━━━━━━━━━━━━━━━━━━\u001b[0m\u001b[37m\u001b[0m \u001b[1m112s\u001b[0m 1s/step - accuracy: 0.7450 - loss: 0.6891 - val_accuracy: 0.4852 - val_loss: 6.1350\n",
      "Epoch 3/10\n",
      "\u001b[1m78/78\u001b[0m \u001b[32m━━━━━━━━━━━━━━━━━━━━\u001b[0m\u001b[37m\u001b[0m \u001b[1m0s\u001b[0m 1s/step - accuracy: 0.7644 - loss: 0.6355\n",
      "Epoch 3: val_loss improved from 0.91090 to 0.88395, saving model to model.keras\n",
      "\u001b[1m78/78\u001b[0m \u001b[32m━━━━━━━━━━━━━━━━━━━━\u001b[0m\u001b[37m\u001b[0m \u001b[1m113s\u001b[0m 1s/step - accuracy: 0.7646 - loss: 0.6351 - val_accuracy: 0.6948 - val_loss: 0.8840\n",
      "Epoch 4/10\n",
      "\u001b[1m78/78\u001b[0m \u001b[32m━━━━━━━━━━━━━━━━━━━━\u001b[0m\u001b[37m\u001b[0m \u001b[1m0s\u001b[0m 1s/step - accuracy: 0.7719 - loss: 0.5726\n",
      "Epoch 4: val_loss did not improve from 0.88395\n",
      "\u001b[1m78/78\u001b[0m \u001b[32m━━━━━━━━━━━━━━━━━━━━\u001b[0m\u001b[37m\u001b[0m \u001b[1m121s\u001b[0m 2s/step - accuracy: 0.7719 - loss: 0.5727 - val_accuracy: 0.6970 - val_loss: 0.9000\n",
      "Epoch 5/10\n",
      "\u001b[1m78/78\u001b[0m \u001b[32m━━━━━━━━━━━━━━━━━━━━\u001b[0m\u001b[37m\u001b[0m \u001b[1m0s\u001b[0m 2s/step - accuracy: 0.8099 - loss: 0.4944\n",
      "Epoch 5: val_loss improved from 0.88395 to 0.84856, saving model to model.keras\n",
      "\u001b[1m78/78\u001b[0m \u001b[32m━━━━━━━━━━━━━━━━━━━━\u001b[0m\u001b[37m\u001b[0m \u001b[1m129s\u001b[0m 2s/step - accuracy: 0.8100 - loss: 0.4945 - val_accuracy: 0.6925 - val_loss: 0.8486\n",
      "Epoch 6/10\n",
      "\u001b[1m78/78\u001b[0m \u001b[32m━━━━━━━━━━━━━━━━━━━━\u001b[0m\u001b[37m\u001b[0m \u001b[1m0s\u001b[0m 2s/step - accuracy: 0.8455 - loss: 0.4390\n",
      "Epoch 6: val_loss did not improve from 0.84856\n",
      "\u001b[1m78/78\u001b[0m \u001b[32m━━━━━━━━━━━━━━━━━━━━\u001b[0m\u001b[37m\u001b[0m \u001b[1m140s\u001b[0m 2s/step - accuracy: 0.8454 - loss: 0.4391 - val_accuracy: 0.6970 - val_loss: 0.8853\n",
      "Epoch 7/10\n",
      "\u001b[1m78/78\u001b[0m \u001b[32m━━━━━━━━━━━━━━━━━━━━\u001b[0m\u001b[37m\u001b[0m \u001b[1m0s\u001b[0m 2s/step - accuracy: 0.8861 - loss: 0.3092\n",
      "Epoch 7: val_loss improved from 0.84856 to 0.76558, saving model to model.keras\n",
      "\u001b[1m78/78\u001b[0m \u001b[32m━━━━━━━━━━━━━━━━━━━━\u001b[0m\u001b[37m\u001b[0m \u001b[1m150s\u001b[0m 2s/step - accuracy: 0.8859 - loss: 0.3101 - val_accuracy: 0.7107 - val_loss: 0.7656\n",
      "Epoch 8/10\n",
      "\u001b[1m78/78\u001b[0m \u001b[32m━━━━━━━━━━━━━━━━━━━━\u001b[0m\u001b[37m\u001b[0m \u001b[1m0s\u001b[0m 2s/step - accuracy: 0.9040 - loss: 0.2981\n",
      "Epoch 8: val_loss did not improve from 0.76558\n",
      "\u001b[1m78/78\u001b[0m \u001b[32m━━━━━━━━━━━━━━━━━━━━\u001b[0m\u001b[37m\u001b[0m \u001b[1m149s\u001b[0m 2s/step - accuracy: 0.9038 - loss: 0.2986 - val_accuracy: 0.5991 - val_loss: 1.6948\n",
      "Epoch 9/10\n",
      "\u001b[1m78/78\u001b[0m \u001b[32m━━━━━━━━━━━━━━━━━━━━\u001b[0m\u001b[37m\u001b[0m \u001b[1m0s\u001b[0m 2s/step - accuracy: 0.9171 - loss: 0.2524\n",
      "Epoch 9: val_loss did not improve from 0.76558\n",
      "\u001b[1m78/78\u001b[0m \u001b[32m━━━━━━━━━━━━━━━━━━━━\u001b[0m\u001b[37m\u001b[0m \u001b[1m148s\u001b[0m 2s/step - accuracy: 0.9168 - loss: 0.2529 - val_accuracy: 0.7107 - val_loss: 0.9389\n",
      "Epoch 10/10\n",
      "\u001b[1m78/78\u001b[0m \u001b[32m━━━━━━━━━━━━━━━━━━━━\u001b[0m\u001b[37m\u001b[0m \u001b[1m0s\u001b[0m 2s/step - accuracy: 0.9422 - loss: 0.1771\n",
      "Epoch 10: val_loss did not improve from 0.76558\n",
      "\u001b[1m78/78\u001b[0m \u001b[32m━━━━━━━━━━━━━━━━━━━━\u001b[0m\u001b[37m\u001b[0m \u001b[1m141s\u001b[0m 2s/step - accuracy: 0.9420 - loss: 0.1776 - val_accuracy: 0.7062 - val_loss: 0.8961\n",
      "Restoring model weights from the end of the best epoch: 7.\n"
     ]
    }
   ],
   "source": [
    "# Train the model using the generators\n",
    "history = model.fit(\n",
    "    train_generator,\n",
    "    epochs=10,\n",
    "    validation_data=validation_generator,\n",
    "    callbacks=[checkpoint, early_stopping]\n",
    ")"
   ]
  },
  {
   "cell_type": "code",
   "execution_count": 65,
   "id": "5b5f7304",
   "metadata": {
    "tags": []
   },
   "outputs": [
    {
     "data": {
      "image/png": "[encoded data removed]",
      "text/plain": [
       "<Figure size 1400x600 with 2 Axes>"
      ]
     },
     "metadata": {},
     "output_type": "display_data"
    }
   ],
   "source": [
    "import matplotlib.pyplot as plt\n",
    "\n",
    "fig, (ax1, ax2) = plt.subplots(1, 2, figsize=(14, 6))\n",
    "\n",
    "# Plotting model loss\n",
    "ax1.plot(history.history['loss'])\n",
    "ax1.plot(history.history['val_loss'])\n",
    "ax1.set_title('Model Loss')\n",
    "ax1.set_ylabel('Loss')\n",
    "ax1.set_xlabel('Epoch')\n",
    "ax1.legend(['train_loss', 'val_loss'], loc='upper left')\n",
    "\n",
    "# Plotting model accuracy\n",
    "ax2.plot(history.history['accuracy'])\n",
    "ax2.plot(history.history['val_accuracy'])\n",
    "ax2.set_title('Model Accuracy')\n",
    "ax2.set_ylabel('Accuracy')\n",
    "ax2.set_xlabel('Epoch')\n",
    "ax2.legend(['train_accuracy', 'val_accuracy'], loc='upper left')\n",
    "\n",
    "plt.tight_layout()\n",
    "plt.show()\n"
   ]
  },
  {
   "cell_type": "code",
   "execution_count": 17,
   "id": "19434ea8",
   "metadata": {},
   "outputs": [
    {
     "name": "stdout",
     "output_type": "stream",
     "text": [
      "\u001b[1m22/22\u001b[0m \u001b[32m━━━━━━━━━━━━━━━━━━━━\u001b[0m\u001b[37m\u001b[0m \u001b[1m4s\u001b[0m 177ms/step - accuracy: 0.6896 - loss: 1.1049\n",
      "Accuracy Test : 0.6775568127632141\n"
     ]
    }
   ],
   "source": [
    "# Evaluate the performance of the model\n",
    "evaluate = model.evaluate(test_generator, steps = test_generator.n // 32, verbose =1)\n",
    "\n",
    "print('Accuracy Test : {}'.format(evaluate[1]))"
   ]
  }
 ],
 "metadata": {
  "kernelspec": {
   "display_name": "Python 3 (ipykernel)",
   "language": "python",
   "name": "python3"
  },
  "language_info": {
   "codemirror_mode": {
    "name": "ipython",
    "version": 3
   },
   "file_extension": ".py",
   "mimetype": "text/x-python",
   "name": "python",
   "nbconvert_exporter": "python",
   "pygments_lexer": "ipython3",
   "version": "3.11.5"
  }
 },
 "nbformat": 4,
 "nbformat_minor": 5
}
